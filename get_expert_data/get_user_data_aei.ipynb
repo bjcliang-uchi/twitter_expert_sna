{
 "cells": [
  {
   "cell_type": "code",
   "execution_count": 1,
   "metadata": {},
   "outputs": [],
   "source": [
    "import requests \n",
    "import bs4 \n",
    "import pandas as pd\n",
    "import re\n",
    "from requests.exceptions import MissingSchema"
   ]
  },
  {
   "cell_type": "code",
   "execution_count": 73,
   "metadata": {},
   "outputs": [],
   "source": [
    "def get_info(url):\n",
    "    r = requests.get(url)\n",
    "    soup = bs4.BeautifulSoup(r.text, \"html.parser\").body\n",
    "    \n",
    "    try: accounts = soup.findAll('a', {'class':'twitter-handle'})[0].text\n",
    "    except IndexError:  accounts = ''\n",
    "    short_desc = soup.findAll('h5', {'class':None})[0].text\n",
    "    scp = soup.findAll('p', {'class': None})\n",
    "    des = '\\n'.join([i.text for i in scp])\n",
    "    tag = '\\n'.join(find_tags(soup))\n",
    "    name = soup.findAll('h1')[0].text.strip('\\n').strip()\n",
    "    \n",
    "    return name, accounts, short_desc, des, tag\n",
    "\n",
    "def find_tags(sp):\n",
    "    collect = []\n",
    "    for i in sp.findAll('a'):\n",
    "        try: href = i['href']\n",
    "        except KeyError: continue\n",
    "        if 'tags_str' in href: collect.append(i.text)\n",
    "    return collect"
   ]
  },
  {
   "cell_type": "code",
   "execution_count": 2,
   "metadata": {},
   "outputs": [],
   "source": [
    "## get target urls\n",
    "url = 'https://www.aei.org/our-scholars/'\n",
    "r = requests.get(url)\n",
    "soup = bs4.BeautifulSoup(r.text, \"html.parser\").body\n",
    "asn = soup.findAll('a', {'class':'news-thumbnail'})\n",
    "staff_urls = [i['href'] for i in asn]"
   ]
  },
  {
   "cell_type": "code",
   "execution_count": 74,
   "metadata": {},
   "outputs": [
    {
     "name": "stdout",
     "output_type": "stream",
     "text": [
      "119\r"
     ]
    }
   ],
   "source": [
    "names = []\n",
    "twitter_accounts = []\n",
    "short_descs = []\n",
    "descs = []\n",
    "tags = []\n",
    "\n",
    "for i, link in enumerate(staff_urls):\n",
    "    name, accounts, short_desc, des, tag = get_info(link)\n",
    "    names.append(name)\n",
    "    twitter_accounts.append(accounts)\n",
    "    short_descs.append(short_desc)\n",
    "    descs.append(des)\n",
    "    tags.append(tag)\n",
    "    print(i, end = '\\r')"
   ]
  },
  {
   "cell_type": "code",
   "execution_count": 76,
   "metadata": {},
   "outputs": [],
   "source": [
    "user_data = pd.DataFrame({'name': names,\n",
    "                          'twitter':twitter_accounts,\n",
    "                          'short_desc': short_descs,\n",
    "                          'desc': descs,\n",
    "                          'tag': tags})\n",
    "user_data['twitter'] = user_data['twitter'].apply(lambda x: x.strip().strip('@'))\n",
    "user_data = user_data.drop_duplicates()"
   ]
  },
  {
   "cell_type": "code",
   "execution_count": 14,
   "metadata": {},
   "outputs": [],
   "source": [
    "user_data['twitter'] = user_data['twitter'].apply(lambda x: x.strip('@') if x != None else x)\n",
    "user_data.to_csv('aei_twitter.csv', index=False)"
   ]
  },
  {
   "cell_type": "code",
   "execution_count": null,
   "metadata": {},
   "outputs": [],
   "source": []
  }
 ],
 "metadata": {
  "kernelspec": {
   "display_name": "Python 3",
   "language": "python",
   "name": "python3"
  },
  "language_info": {
   "codemirror_mode": {
    "name": "ipython",
    "version": 3
   },
   "file_extension": ".py",
   "mimetype": "text/x-python",
   "name": "python",
   "nbconvert_exporter": "python",
   "pygments_lexer": "ipython3",
   "version": "3.7.0"
  }
 },
 "nbformat": 4,
 "nbformat_minor": 4
}
