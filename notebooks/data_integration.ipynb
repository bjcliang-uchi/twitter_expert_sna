{
 "cells": [
  {
   "cell_type": "code",
   "execution_count": 2,
   "metadata": {},
   "outputs": [],
   "source": [
    "import pandas as pd\n",
    "import numpy as np\n",
    "import json\n",
    "import os\n",
    "pd.set_option('max_rows', 1000)"
   ]
  },
  {
   "cell_type": "markdown",
   "metadata": {},
   "source": [
    "Littman, Justin; Kerchner, Daniel; Wrubel, Laura, 2017, \"End of Term 2016 U.S. Government Twitter Archive\", https://doi.org/10.7910/DVN/TQBLWZ, Harvard Dataverse, V1"
   ]
  },
  {
   "cell_type": "code",
   "execution_count": 4,
   "metadata": {},
   "outputs": [],
   "source": [
    "government_agency = []\n",
    "with open('twitter_accounts/eot-README.txt') as f:\n",
    "    for line in f: \n",
    "        if '*' in line: \n",
    "            name = line.strip('*').strip()\n",
    "            if '-' in name: name = name.split('-')[0]\n",
    "            if ',' in name: name = name.split(',')[0]\n",
    "            if ' ' in name: name = name.split(' ')[0]\n",
    "            government_agency.append(name)\n",
    "government_agency = set(government_agency)"
   ]
  },
  {
   "cell_type": "markdown",
   "metadata": {},
   "source": [
    "Littman, Justin, 2017, \"115th U.S. Congress Tweet Ids\", https://doi.org/10.7910/DVN/UIVHQR, Harvard Dataverse, V5, UNF:6:pa6q3/72341rRixB7ez15Q== [fileUNF]"
   ]
  },
  {
   "cell_type": "code",
   "execution_count": 5,
   "metadata": {},
   "outputs": [],
   "source": [
    "house115 = pd.read_csv('twitter_accounts/115thCongress/representatives-accounts-1.csv')\n",
    "house115 = list(house115[\"Token\"])\n",
    "senate115 = pd.read_csv('twitter_accounts/115thCongress/senators-accounts-1.csv')\n",
    "senate115 = list(senate115[\"Token\"])"
   ]
  },
  {
   "cell_type": "markdown",
   "metadata": {},
   "source": [
    "116th Congress, Github\n",
    "[Read our blog for more details](https://ws-dl.blogspot.com/2019/04/2019-04-01-creating-data-set-for-116th.html)"
   ]
  },
  {
   "cell_type": "code",
   "execution_count": 6,
   "metadata": {},
   "outputs": [],
   "source": [
    "Congress116 = pd.read_csv('twitter_accounts/116thCongress/116Congress.csv', \n",
    "                          encoding=\"ISO-8859-1\")\n",
    "sen116 = list(set(Congress116[Congress116['Position']=='Sen']['TweetCongress']))\n",
    "rep116 = list(set(Congress116[Congress116['Position']=='Rep']['TweetCongress']))"
   ]
  },
  {
   "cell_type": "markdown",
   "metadata": {},
   "source": [
    "Littman, Justin; Wrubel, Laura; Kerchner, Daniel; Bromberg Gaber, Yonah, 2017, \"News Outlet Tweet Ids\", https://doi.org/10.7910/DVN/2FIFLH, Harvard Dataverse, V3, UNF:6:I38WJ5vqwDky1fkEOeexvQ== [fileUNF]"
   ]
  },
  {
   "cell_type": "code",
   "execution_count": 7,
   "metadata": {},
   "outputs": [],
   "source": [
    "news_outlet = pd.read_csv('twitter_accounts/new_outlets-accounts.csv')\n",
    "news_outlet = list(set(news_outlet['Token']))"
   ]
  },
  {
   "cell_type": "markdown",
   "metadata": {},
   "source": [
    "Littman, Justin; Kerchner, Daniel; Wrubel, Laura, 2017, \"U.S. Government Tweet Ids\", https://doi.org/10.7910/DVN/2N3HHD, Harvard Dataverse, V2, UNF:6:L8JDWfyfS9C694Nl7YfG7Q== [fileUNF]"
   ]
  },
  {
   "cell_type": "code",
   "execution_count": 8,
   "metadata": {},
   "outputs": [],
   "source": [
    "gov_account = pd.read_csv('twitter_accounts/us_govt-accounts.csv')\n",
    "gov_account = list(set(gov_account['Token']))\n",
    "government_agency = list(set(list(government_agency) + list(gov_account)))"
   ]
  },
  {
   "cell_type": "markdown",
   "metadata": {},
   "source": [
    "Wrubel, Laura; Littman, Justin; Kerchner, Dan, 2019, \"2018 U.S. Congressional Election Tweet Ids\", https://doi.org/10.7910/DVN/AEZPLU, Harvard Dataverse, V1, UNF:6:gxmogmaacqF8Mu3nvM793w== [fileUNF]"
   ]
  },
  {
   "cell_type": "markdown",
   "metadata": {},
   "source": [
    "## Data Integration"
   ]
  },
  {
   "cell_type": "code",
   "execution_count": null,
   "metadata": {},
   "outputs": [],
   "source": [
    "datasets = [house115, senate115, sen116, rep116, news_outlet, government_agency]\n",
    "name = [\"house115\", \"senate115\", \"sen116\", \"rep116\", \"news_outlet\", \"government_agency\"]\n",
    "\n",
    "account_types = dict()\n",
    "for ind, n in enumerate(name):\n",
    "    account_types[n] = datasets[ind]\n",
    "    \n",
    "json.dump(account_types, open('account_type.json', 'w'))"
   ]
  },
  {
   "cell_type": "code",
   "execution_count": null,
   "metadata": {},
   "outputs": [],
   "source": [
    "def trans(x, tag):\n",
    "    #if isinstance(x, float): return x\n",
    "    if 'tweets' not in tag: cleaned_x = x.strip(f'{tag}\\n{tag}\\n').replace(',', '')\n",
    "    else: cleaned_x = x.strip('Tweets\\nTweets, current page.').replace(',', '')\n",
    "    if cleaned_x.isnumeric(): return int(cleaned_x)\n",
    "    else: \n",
    "        if 'K' not in cleaned_x: return cleaned_x\n",
    "        cleaned_x = float(cleaned_x.strip('K'))\n",
    "        cleaned_x = cleaned_x*1000\n",
    "        return int(cleaned_x)"
   ]
  },
  {
   "cell_type": "code",
   "execution_count": null,
   "metadata": {},
   "outputs": [],
   "source": [
    "def clean_user_info(original):\n",
    "    #twitter_user_info = json.load(open('drafts/user_info_2.json')) \n",
    "    twitter_user_info = json.load(open(original))\n",
    "    result = {}\n",
    "    for d in twitter_user_info: \n",
    "        if d: result.update(d)\n",
    "    \n",
    "    updated_dict = dict()\n",
    "    for d in result:\n",
    "        is_in = ''\n",
    "        if not d: continue\n",
    "        if not result[d]: continue\n",
    "        if 'Protected Tweets' in result[d][0]: continue\n",
    "        if isinstance(result[d][4], float): continue\n",
    "        \n",
    "        for i, data in enumerate(datasets):\n",
    "            if d in data: is_in = name[i]\n",
    "    \n",
    "        updated_dict[d] = dict()\n",
    "        updated_dict[d]['fullname'] = result[d][0]\n",
    "        updated_dict[d]['desc'] = result[d][1].strip()\n",
    "        updated_dict[d]['location'] = result[d][2].strip()\n",
    "        updated_dict[d]['join_time'] = result[d][3]\n",
    "        updated_dict[d]['following'] = trans(result[d][4], 'Following')\n",
    "        updated_dict[d]['follower'] = trans(result[d][5], 'Followers')\n",
    "        updated_dict[d]['num_tweets'] = trans(result[d][6], 'tweets')\n",
    "        updated_dict[d]['type'] = is_in\n",
    "    \n",
    "    return updated_dict"
   ]
  },
  {
   "cell_type": "code",
   "execution_count": 12,
   "metadata": {},
   "outputs": [],
   "source": [
    "for d in result:\n",
    "    is_in = ''\n",
    "    if not d: continue\n",
    "    if not result[d]: continue\n",
    "    if 'Protected Tweets' in result[d][0]: continue\n",
    "    if isinstance(result[d][4], float): continue\n",
    "        \n",
    "    for i, data in enumerate(datasets):\n",
    "        if d in data: is_in = name[i]\n",
    "    \n",
    "    updated_dict[d] = dict()\n",
    "    updated_dict[d]['fullname'] = result[d][0]\n",
    "    updated_dict[d]['desc'] = result[d][1].strip()\n",
    "    updated_dict[d]['location'] = result[d][2].strip()\n",
    "    updated_dict[d]['join_time'] = result[d][3]\n",
    "    updated_dict[d]['following'] = trans(result[d][4], 'Following')\n",
    "    updated_dict[d]['follower'] = trans(result[d][5], 'Followers')\n",
    "    updated_dict[d]['num_tweets'] = trans(result[d][6], 'tweets')\n",
    "    updated_dict[d]['type'] = is_in"
   ]
  },
  {
   "cell_type": "code",
   "execution_count": 14,
   "metadata": {},
   "outputs": [],
   "source": [
    "json.dump(updated_dict, open('cleaned_account_info.json', 'w')) "
   ]
  },
  {
   "cell_type": "code",
   "execution_count": null,
   "metadata": {},
   "outputs": [],
   "source": []
  }
 ],
 "metadata": {
  "kernelspec": {
   "display_name": "Python 3",
   "language": "python",
   "name": "python3"
  },
  "language_info": {
   "codemirror_mode": {
    "name": "ipython",
    "version": 3
   },
   "file_extension": ".py",
   "mimetype": "text/x-python",
   "name": "python",
   "nbconvert_exporter": "python",
   "pygments_lexer": "ipython3",
   "version": "3.7.0"
  }
 },
 "nbformat": 4,
 "nbformat_minor": 4
}
