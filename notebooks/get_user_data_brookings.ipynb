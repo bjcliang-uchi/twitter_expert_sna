{
 "cells": [
  {
   "cell_type": "code",
   "execution_count": 2,
   "metadata": {},
   "outputs": [],
   "source": [
    "import requests \n",
    "import bs4 \n",
    "import pandas as pd\n",
    "import re\n",
    "from requests.exceptions import MissingSchema"
   ]
  },
  {
   "cell_type": "code",
   "execution_count": 101,
   "metadata": {},
   "outputs": [],
   "source": [
    "def extract_info(sp):\n",
    "    lst = sp.findAll(['h2','h3', 'a'], {'class':['title','name', 'twitter']})\n",
    "    name_info = dict()\n",
    "    for i in lst:\n",
    "        if i['class'][0] == 'name': \n",
    "            name = i.text\n",
    "            name_info[i.text] = dict()\n",
    "            name_info[i.text]['href'] = i.find('a')['href']\n",
    "            name_info[i.text]['title'] = []\n",
    "            continue\n",
    "        if i['class'][0] == 'title':\n",
    "            name_info[name]['title'].append(i.text)\n",
    "            continue\n",
    "        if i['class'][0] == 'twitter':\n",
    "            name_info[name]['twitter'] = i.text.split('\\n')[1].strip('@')\n",
    "        else: name_info[name]['twitter'] = ''\n",
    "    return name_info"
   ]
  },
  {
   "cell_type": "code",
   "execution_count": 102,
   "metadata": {},
   "outputs": [],
   "source": [
    "total_data = dict()\n",
    "for i in range(100):\n",
    "    url = f'https://www.brookings.edu/experts/page/{i}?'\n",
    "    r = requests.get(url)\n",
    "    if not r: break\n",
    "    soup = bs4.BeautifulSoup(r.text, \"html.parser\").body\n",
    "    add = extract_info(soup)\n",
    "    total_data.update(add)"
   ]
  },
  {
   "cell_type": "code",
   "execution_count": 103,
   "metadata": {},
   "outputs": [
    {
     "data": {
      "text/plain": [
       "426"
      ]
     },
     "execution_count": 103,
     "metadata": {},
     "output_type": "execute_result"
    }
   ],
   "source": [
    "len(total_data)"
   ]
  },
  {
   "cell_type": "code",
   "execution_count": 107,
   "metadata": {},
   "outputs": [],
   "source": [
    "name = list(total_data.keys())\n",
    "twitter = [total_data[i]['twitter'] if 'twitter' in total_data[i] else '' for i in total_data]\n",
    "title = ['\\n'.join(total_data[i]['title']) for i in total_data]\n",
    "user_data = pd.DataFrame({'name':name, 'twitter':twitter, 'title':title})"
   ]
  },
  {
   "cell_type": "code",
   "execution_count": 109,
   "metadata": {},
   "outputs": [],
   "source": [
    "user_data.to_csv('brookings_twitter.csv', index=False)"
   ]
  },
  {
   "cell_type": "code",
   "execution_count": null,
   "metadata": {},
   "outputs": [],
   "source": []
  }
 ],
 "metadata": {
  "kernelspec": {
   "display_name": "Python 3",
   "language": "python",
   "name": "python3"
  },
  "language_info": {
   "codemirror_mode": {
    "name": "ipython",
    "version": 3
   },
   "file_extension": ".py",
   "mimetype": "text/x-python",
   "name": "python",
   "nbconvert_exporter": "python",
   "pygments_lexer": "ipython3",
   "version": "3.7.0"
  }
 },
 "nbformat": 4,
 "nbformat_minor": 4
}
