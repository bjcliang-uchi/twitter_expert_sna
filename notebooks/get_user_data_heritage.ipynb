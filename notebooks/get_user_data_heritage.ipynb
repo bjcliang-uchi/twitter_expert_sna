{
 "cells": [
  {
   "cell_type": "code",
   "execution_count": 1,
   "metadata": {},
   "outputs": [],
   "source": [
    "import requests \n",
    "import bs4 \n",
    "import pandas as pd\n",
    "import re\n",
    "#import urllib\n",
    "from requests.exceptions import MissingSchema"
   ]
  },
  {
   "cell_type": "code",
   "execution_count": 2,
   "metadata": {},
   "outputs": [],
   "source": [
    "def gen_add(sp):\n",
    "    raw = sp.findAll(['div', 'a'], \n",
    "                   {\"class\": ['person-list-small__name', \n",
    "                              'person-list-small__twitter-handle']})\n",
    "    desc_raw = sp.findAll('p', {\"class\": ['person-list-small__title']})\n",
    "    \n",
    "    names = []\n",
    "    dat = [i.text for i in raw]\n",
    "    \n",
    "    while(len(dat)!=0):\n",
    "        if (len(dat) == 1) or (dat[1][0] != '@' and len(dat[1].split(' '))>1):\n",
    "            names.append((dat[0], None))\n",
    "            dat.remove(dat[0])\n",
    "        else:\n",
    "            names.append((dat[0], dat[1]))\n",
    "            dat.remove(dat[0])\n",
    "            dat.remove(dat[0])\n",
    "            \n",
    "    add = pd.DataFrame({'name': [i[0] for i in names],\n",
    "                        'twitter': [i[1] for i in names],\n",
    "                        'desc': [i.text for i in desc_raw]})\n",
    "    return add"
   ]
  },
  {
   "cell_type": "code",
   "execution_count": 4,
   "metadata": {},
   "outputs": [
    {
     "name": "stdout",
     "output_type": "stream",
     "text": [
      "Z\r"
     ]
    }
   ],
   "source": [
    "user_data = pd.DataFrame()\n",
    "\n",
    "for ch in range(ord('A'), ord('Z') + 1):\n",
    "    print(chr(ch), end = '\\r')\n",
    "    url = f'https://www.heritage.org/about-heritage/staff/experts/{chr(ch)}'\n",
    "    r = requests.get(url)\n",
    "    soup = bs4.BeautifulSoup(r.text, \"html.parser\").body\n",
    "    add = gen_add(soup)\n",
    "    user_data = user_data.append(add)"
   ]
  },
  {
   "cell_type": "code",
   "execution_count": 6,
   "metadata": {},
   "outputs": [
    {
     "name": "stdout",
     "output_type": "stream",
     "text": [
      "Z\r"
     ]
    }
   ],
   "source": [
    "for ch in range(ord('A'), ord('Z') + 1):\n",
    "    print(chr(ch), end = '\\r')\n",
    "    url = f'https://www.heritage.org/about-heritage/staff/leadership/{chr(ch)}'\n",
    "    r = requests.get(url)\n",
    "    soup = bs4.BeautifulSoup(r.text, \"html.parser\").body\n",
    "    add = gen_add(soup)\n",
    "    user_data = user_data.append(add)"
   ]
  },
  {
   "cell_type": "code",
   "execution_count": 7,
   "metadata": {},
   "outputs": [],
   "source": [
    "user_data = user_data.drop_duplicates().copy()"
   ]
  },
  {
   "cell_type": "code",
   "execution_count": 8,
   "metadata": {},
   "outputs": [],
   "source": [
    "user_data['twitter'] = user_data['twitter'].apply(lambda x: x.strip('@') if x != None else x)\n",
    "user_data.to_csv('heritage_twitter.csv', index=False)"
   ]
  },
  {
   "cell_type": "code",
   "execution_count": null,
   "metadata": {},
   "outputs": [],
   "source": []
  }
 ],
 "metadata": {
  "kernelspec": {
   "display_name": "Python 3",
   "language": "python",
   "name": "python3"
  },
  "language_info": {
   "codemirror_mode": {
    "name": "ipython",
    "version": 3
   },
   "file_extension": ".py",
   "mimetype": "text/x-python",
   "name": "python",
   "nbconvert_exporter": "python",
   "pygments_lexer": "ipython3",
   "version": "3.7.0"
  }
 },
 "nbformat": 4,
 "nbformat_minor": 4
}
