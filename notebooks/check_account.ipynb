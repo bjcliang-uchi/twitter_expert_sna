{
 "cells": [
  {
   "cell_type": "code",
   "execution_count": 2,
   "metadata": {},
   "outputs": [],
   "source": [
    "import pandas as pd\n",
    "import numpy as np\n",
    "import json, os\n",
    "from helper import *\n",
    "pd.set_option('max_rows', 1000)"
   ]
  },
  {
   "cell_type": "markdown",
   "metadata": {},
   "source": [
    "This notebook integrates different sources of data and checks if any user needs to be rescraped. I rescrape an user if the total numbers of follower/ following accounts we obtain are significantly different from the true numbers of followers/ following accounts based on the user profile information. "
   ]
  },
  {
   "cell_type": "code",
   "execution_count": 3,
   "metadata": {},
   "outputs": [],
   "source": [
    "#follower, following = get_follower_following_from()\n",
    "#file = json.load(open('drafts/following_accounts.json'))\n",
    "#for lst in file: for people in lst: following.update(people)\n",
    "follower = json.load(open('cleaned_follower.json'))\n",
    "following = json.load(open('cleaned_following.json'))\n",
    "update_follower = json.load(open('followers_parallel.json'))\n",
    "\n",
    "for user in update_follower:\n",
    "    add = {user: update_follower[user]}\n",
    "    follower.update(add)\n",
    "    \n",
    "update_following = json.load(open('following_parallel.json'))\n",
    "\n",
    "for user in update_following:\n",
    "    add = {user: update_following[user]}\n",
    "    following.update(add)\n",
    "\n",
    "for name in follower: follower[name] = list(set(follower[name]))\n",
    "for name in following: following[name] = list(set(following[name]))"
   ]
  },
  {
   "cell_type": "code",
   "execution_count": 4,
   "metadata": {},
   "outputs": [],
   "source": [
    "json.dump(follower, open('cleaned_follower.json', 'w'))\n",
    "json.dump(following, open('cleaned_following.json', 'w'))"
   ]
  },
  {
   "cell_type": "code",
   "execution_count": 5,
   "metadata": {},
   "outputs": [],
   "source": [
    "account_info = json.load(open('cleaned_account_info.json'))\n",
    "#raw_account_info = json.load(open('raw_account_info.json'))\n",
    "data = pd.read_csv('twitter_accounts.csv')"
   ]
  },
  {
   "cell_type": "code",
   "execution_count": 43,
   "metadata": {},
   "outputs": [],
   "source": [
    "sub = data[(~data['twitter'].isin(['-1', np.NAN, 'Twitter'])) & \n",
    "           (~data['twitter'].isin(account_info))]\n",
    "target_accounts = list(sub['twitter'])"
   ]
  },
  {
   "cell_type": "code",
   "execution_count": 8,
   "metadata": {},
   "outputs": [],
   "source": [
    "sub = data[(~data['twitter'].isin(['-1', 'Twitter'])) & \n",
    "           (data['true_followers']==0)]\n",
    "target_accounts = list(sub['twitter'])\n",
    "\n",
    "sub = data[(~data['twitter'].isin(['-1', 'Twitter'])) & \n",
    "           (data['true_following']==0)]\n",
    "target_accounts += list(sub['twitter'])"
   ]
  },
  {
   "cell_type": "code",
   "execution_count": 10,
   "metadata": {},
   "outputs": [
    {
     "name": "stdout",
     "output_type": "stream",
     "text": [
      "DiXu24980271AEI\r"
     ]
    }
   ],
   "source": [
    "new_added = []\n",
    "for user in target_accounts:\n",
    "    print(user, end = '\\r')\n",
    "    new_added.append(scrape_user(user))"
   ]
  },
  {
   "cell_type": "code",
   "execution_count": 13,
   "metadata": {},
   "outputs": [],
   "source": [
    "for user in new_added: \n",
    "    if user not in raw_account_info: raw_account_info.append(user)\n",
    "json.dump(raw_account_info, open('raw_account_info.json', 'w'))"
   ]
  },
  {
   "cell_type": "code",
   "execution_count": 20,
   "metadata": {},
   "outputs": [],
   "source": [
    "updated = clean_user_info(new_added)\n",
    "for user in updated: account_info.update(updated[user])\n",
    "json.dump(account_info, open('cleaned_account_info.json', 'w'))"
   ]
  },
  {
   "cell_type": "code",
   "execution_count": 6,
   "metadata": {},
   "outputs": [],
   "source": [
    "data['followers'] = data['twitter'].apply(lambda x: len(follower[x]) if x in follower else 0)\n",
    "data['following'] = data['twitter'].apply(lambda x: len(following[x]) if x in following else 0)"
   ]
  },
  {
   "cell_type": "code",
   "execution_count": 7,
   "metadata": {},
   "outputs": [],
   "source": [
    "if_check = lambda x: 0 if ((x[0] == '-1') or (isinstance(x[2], str)) or \n",
    "                           (abs(x[2] - x[1]) < 30)) else 1\n",
    "data['true_followers'] = data['twitter'].apply(lambda x: account_info[x]['follower'] \n",
    "                                               if x in account_info else 0)\n",
    "data['true_following'] = data['twitter'].apply(lambda x: account_info[x]['following'] \n",
    "                                               if x in account_info else 0)\n",
    "data['check_follower'] = data[['twitter', 'followers', \n",
    "                               'true_followers']].apply(if_check, axis = 1)\n",
    "data['check_following'] = data[['twitter', 'following', \n",
    "                                'true_following']].apply(if_check, axis = 1)"
   ]
  },
  {
   "cell_type": "code",
   "execution_count": 14,
   "metadata": {},
   "outputs": [],
   "source": [
    "data.to_csv('twitter_accounts.csv', index=False)"
   ]
  },
  {
   "cell_type": "code",
   "execution_count": 60,
   "metadata": {},
   "outputs": [
    {
     "data": {
      "text/plain": [
       "699863"
      ]
     },
     "execution_count": 60,
     "metadata": {},
     "output_type": "execute_result"
    }
   ],
   "source": [
    "a = set([j for i in follower for j in follower[i]])\n",
    "b = set([j for i in following for j in following[i]])\n",
    "account_interests = list(set(list(a)+list(b)+list(data['twitter'].dropna())))\n",
    "len(account_interests)"
   ]
  },
  {
   "cell_type": "code",
   "execution_count": 61,
   "metadata": {},
   "outputs": [],
   "source": [
    "json.dump(account_interests, open('account_interests.json', 'w'))"
   ]
  }
 ],
 "metadata": {
  "kernelspec": {
   "display_name": "Python 3",
   "language": "python",
   "name": "python3"
  },
  "language_info": {
   "codemirror_mode": {
    "name": "ipython",
    "version": 3
   },
   "file_extension": ".py",
   "mimetype": "text/x-python",
   "name": "python",
   "nbconvert_exporter": "python",
   "pygments_lexer": "ipython3",
   "version": "3.7.0"
  }
 },
 "nbformat": 4,
 "nbformat_minor": 4
}
