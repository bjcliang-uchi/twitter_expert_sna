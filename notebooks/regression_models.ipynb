{
 "cells": [
  {
   "cell_type": "code",
   "execution_count": 2,
   "metadata": {},
   "outputs": [],
   "source": [
    "import json\n",
    "import pandas as pd\n",
    "import numpy as np\n",
    "import networkx as nx\n",
    "import os\n",
    "import random\n",
    "import matplotlib.pyplot as plt\n",
    "from sklearn.datasets import make_blobs\n",
    "from datetime import datetime\n",
    "import matplotlib\n",
    "pd.set_option('max_rows', 2000)"
   ]
  },
  {
   "cell_type": "markdown",
   "metadata": {},
   "source": [
    "## Load Data"
   ]
  },
  {
   "cell_type": "code",
   "execution_count": 2,
   "metadata": {},
   "outputs": [],
   "source": [
    "experts = pd.read_csv('twitter_accounts_complete.csv')\n",
    "updated_dict = json.load(open('cleaned_account_info.json')) \n",
    "follower = json.load(open('cleaned_follower.json'))\n",
    "following = json.load(open('cleaned_following.json'))\n",
    "twitter_types = json.load(open(\"account_type.json\"))\n",
    "experts_dict = dict(zip(experts['twitter'], experts['institution']))"
   ]
  },
  {
   "cell_type": "code",
   "execution_count": 4,
   "metadata": {},
   "outputs": [
    {
     "data": {
      "text/plain": [
       "dict_keys(['house115', 'senate115', 'sen116', 'rep116', 'news_outlet', 'government_agency', 'congress'])"
      ]
     },
     "execution_count": 4,
     "metadata": {},
     "output_type": "execute_result"
    }
   ],
   "source": [
    "lst = ['house115', 'senate115', 'sen116', 'rep116']\n",
    "twitter_types['congress'] = [j for i in twitter_types for j in twitter_types[i] if i in lst]\n",
    "twitter_types.keys()"
   ]
  },
  {
   "cell_type": "markdown",
   "metadata": {},
   "source": [
    "## Calculate components of followers/ following accounts"
   ]
  },
  {
   "cell_type": "code",
   "execution_count": 5,
   "metadata": {},
   "outputs": [],
   "source": [
    "def num_followers(user, tar):\n",
    "    if user not in follower: return 0\n",
    "    fol = follower[user]\n",
    "    return len(set(twitter_types[tar]) & set(fol))\n",
    "\n",
    "def num_following(user, tar):\n",
    "    if user not in following: return 0\n",
    "    fol = following[user]\n",
    "    return len(set(twitter_types[tar]) & set(fol))"
   ]
  },
  {
   "cell_type": "code",
   "execution_count": 6,
   "metadata": {},
   "outputs": [],
   "source": [
    "experts = experts[['name', 'twitter', 'institution', \n",
    "                   'true_followers', 'true_following',\n",
    "                   'position', 'num_citation']].copy()"
   ]
  },
  {
   "cell_type": "code",
   "execution_count": 7,
   "metadata": {},
   "outputs": [],
   "source": [
    "experts['gov_followers'] = experts['twitter'].apply(lambda x: num_followers(x, 'government_agency'))\n",
    "experts['congress_followers'] = experts['twitter'].apply(lambda x: num_followers(x, 'congress'))\n",
    "experts['news_followers'] = experts['twitter'].apply(lambda x: num_followers(x, 'news_outlet'))\n",
    "experts['gov_following'] = experts['twitter'].apply(lambda x: num_following(x, 'government_agency'))\n",
    "experts['congress_following'] = experts['twitter'].apply(lambda x: num_following(x, 'congress'))\n",
    "experts['news_following'] = experts['twitter'].apply(lambda x: num_following(x, 'news_outlet'))"
   ]
  },
  {
   "cell_type": "markdown",
   "metadata": {},
   "source": [
    "## Construct networks to calculate centrality"
   ]
  },
  {
   "cell_type": "code",
   "execution_count": null,
   "metadata": {},
   "outputs": [],
   "source": [
    "G, attrs = nx.DiGraph(), dict()\n",
    "for user in updated_dict:\n",
    "    G.add_node(user)\n",
    "    attrs[user] = dict()\n",
    "    if user in experts_dict: user_class = experts_dict[user]\n",
    "    else: \n",
    "        try: user_class = updated_dict[user]['type']\n",
    "        except TypeError: continue\n",
    "    attrs[user]['class'] = user_class\n",
    "    attrs[user]['follower'] = updated_dict[user]['follower']\n",
    "    attrs[user]['following'] = updated_dict[user]['following']\n",
    "nx.set_node_attributes(G, attrs)\n",
    "\n",
    "for user in follower:\n",
    "    for from_node in follower[user]:\n",
    "        G.add_edge(from_node, user)\n",
    "for user in following:\n",
    "    for to_node in following[user]:\n",
    "        G.add_edge(user, to_node)"
   ]
  },
  {
   "cell_type": "code",
   "execution_count": null,
   "metadata": {},
   "outputs": [],
   "source": [
    "experts['inner_betweeness'] = -1\n",
    "\n",
    "for tag in ['heritage', 'brookings', 'aei']:\n",
    "    labels = nx.get_node_attributes(G, 'class') \n",
    "    tar_twitters = list(experts[experts['institution']==tag]['twitter'])\n",
    "    tar_labels = {i:labels[i] for i in labels if (labels[i] ==tag) and (i in tar_twitters)}\n",
    "    H = G.subgraph(tar_labels).copy()\n",
    "    bet_cent = nx.betweenness_centrality(H)\n",
    "    \n",
    "    experts['inner_betweeness'] = experts[['twitter', \n",
    "                                           'inner_betweeness']].apply(lambda x: bet_cent[x[0]] \n",
    "                                            if x[0] in bet_cent else x[1], axis=1)"
   ]
  },
  {
   "cell_type": "code",
   "execution_count": null,
   "metadata": {},
   "outputs": [],
   "source": [
    "experts['inner_degree'] = -1\n",
    "\n",
    "for tag in ['heritage', 'brookings', 'aei']:\n",
    "    labels = nx.get_node_attributes(G, 'class') \n",
    "    tar_twitters = list(experts[experts['institution']==tag]['twitter'])\n",
    "    tar_labels = {i:labels[i] for i in labels if (labels[i] ==tag) and (i in tar_twitters)}\n",
    "    H = G.subgraph(tar_labels).copy()\n",
    "    bet_cent = nx.in_degree_centrality(H)\n",
    "    \n",
    "    experts['inner_degree'] = experts[['twitter', 'inner_degree']].apply(lambda x: \n",
    "                                                                       bet_cent[x[0]] if x[0] in bet_cent else x[1], \n",
    "                                                                       axis=1)"
   ]
  },
  {
   "cell_type": "markdown",
   "metadata": {},
   "source": [
    "## Coding Positions"
   ]
  },
  {
   "cell_type": "code",
   "execution_count": null,
   "metadata": {},
   "outputs": [],
   "source": [
    "position_codes = {\n",
    "    'leadership': 4,\n",
    "    'senior fellow': 3,\n",
    "    'Resident Scholar':2,\n",
    "    \"research fellow\": 2,\n",
    "    'research Fellow':2,\n",
    "    'visiting fellow': 1,\n",
    "    'Visiting Fellow/Scholar':1,\n",
    "    'visiting Fellow/Scholar':1,\n",
    "    'nonresident fellow': 1,\n",
    "    'assistant': 0,\n",
    "    'former fellow': -1,\n",
    "    'unclear':-1,\n",
    "    np.NAN: -1,\n",
    "}"
   ]
  },
  {
   "cell_type": "code",
   "execution_count": null,
   "metadata": {},
   "outputs": [],
   "source": [
    "experts['position'] = experts['position'].apply(lambda x: position_codes[x])"
   ]
  },
  {
   "cell_type": "markdown",
   "metadata": {},
   "source": [
    "## Calculate Tweeting Frequency"
   ]
  },
  {
   "cell_type": "code",
   "execution_count": null,
   "metadata": {},
   "outputs": [],
   "source": [
    "tweets = json.load(open('expert_tweets.json'))\n",
    "#prev_months = ['Jan', 'Feb', 'Mar', 'Apr', 'May']\n",
    "months = ['Jan', 'Feb', 'Mar', 'Apr', 'May', 'Jun', 'Jul', \n",
    "          'Aug', 'Sep', 'Oct', 'Nov', 'Dec']\n",
    "month_dict = dict(zip(months, range(1, 13)))"
   ]
  },
  {
   "cell_type": "code",
   "execution_count": null,
   "metadata": {},
   "outputs": [],
   "source": [
    "## Twitter does not report the year of tweets so we need to \n",
    "## manually calculate it based on the change of months\n",
    "\n",
    "tweet_freq = dict()\n",
    "for key in tweets:\n",
    "    texts = tweets[key]\n",
    "    if len(texts) < 1: continue\n",
    "    print(key, '   ', end = '\\r')\n",
    "    num_original = sum(['[Original]' in i[0] for i in texts])\n",
    "    num_retweeted = sum(['[Retweeted]' in i[0] for i in texts])\n",
    "    \n",
    "    month = [i[1].split(' ')[0] for i in texts]\n",
    "    month = np.array([month_dict[i] for i in month if i in month_dict])\n",
    "    diff = month[1:] - month[:-1]\n",
    "    final_year = 2020-(sum(diff>3))\n",
    "    \n",
    "    date = texts[-1][1]\n",
    "    if len(date.split(' ')) == 3:\n",
    "        date = datetime.strptime(date, '%d %b %y')\n",
    "    else:\n",
    "        date = datetime.strptime(date + \" \"+ str(final_year), '%b %d %Y')\n",
    "        \n",
    "    length = (datetime.now() - date).days\n",
    "    tweet_freq[key] = (num_original/length, len(texts)/length)"
   ]
  },
  {
   "cell_type": "code",
   "execution_count": 336,
   "metadata": {},
   "outputs": [],
   "source": [
    "experts['freq_original'] = experts['twitter'].apply(lambda x: tweet_freq[x][0] if x in tweet_freq else -1)\n",
    "experts['freq_total'] = experts['twitter'].apply(lambda x: tweet_freq[x][1] if x in tweet_freq else -1)"
   ]
  },
  {
   "cell_type": "code",
   "execution_count": 346,
   "metadata": {},
   "outputs": [],
   "source": [
    "cut_experts = experts.dropna()\n",
    "cut_experts = cut_experts[cut_experts['twitter'] != '-1']\n",
    "cut_experts = cut_experts[cut_experts['inner_betweeness'] != -1]\n",
    "cut_experts = cut_experts[cut_experts['inner_degree'] != -1]\n",
    "cut_experts = cut_experts[cut_experts['position'] != -1]\n",
    "cut_experts = cut_experts[cut_experts['freq_original'] != -1]\n",
    "#cut_experts.to_csv('data_analysis.csv', index=False)"
   ]
  },
  {
   "cell_type": "markdown",
   "metadata": {},
   "source": [
    "## Regressions"
   ]
  },
  {
   "cell_type": "code",
   "execution_count": 21,
   "metadata": {},
   "outputs": [],
   "source": [
    "data = pd.read_csv('data_analysis.csv')\n",
    "sent = pd.read_csv('avg_sentiment.csv')## sentiment data"
   ]
  },
  {
   "cell_type": "code",
   "execution_count": 22,
   "metadata": {},
   "outputs": [],
   "source": [
    "data = data.merge(sent, left_on = 'twitter', right_on = 'name')\n",
    "data = data[['name_x', 'twitter', 'institution', \n",
    "             'num_followers', 'num_following',\n",
    "             'gov_followers', 'congress_followers', 'news_followers', \n",
    "             'gov_following', 'congress_following', 'news_following',\n",
    "             'position', 'num_citation', 'freq_original', 'freq_total',\n",
    "             'is_neg', 'is_neu', 'is_pos', \n",
    "             'inner_betweeness', 'inner_degree']].copy()"
   ]
  },
  {
   "cell_type": "code",
   "execution_count": 23,
   "metadata": {},
   "outputs": [],
   "source": [
    "cut = data[data['num_citation']!=0]"
   ]
  },
  {
   "cell_type": "code",
   "execution_count": 49,
   "metadata": {},
   "outputs": [],
   "source": [
    "from scipy import stats\n",
    "import statsmodels.api as sm\n",
    "import seaborn as sns"
   ]
  },
  {
   "cell_type": "code",
   "execution_count": 55,
   "metadata": {},
   "outputs": [
    {
     "data": {
      "text/plain": [
       "array([[1.        , 0.67155053],\n",
       "       [0.67155053, 1.        ]])"
      ]
     },
     "execution_count": 55,
     "metadata": {},
     "output_type": "execute_result"
    }
   ],
   "source": [
    "np.corrcoef(data['inner_betweeness'], data['inner_degree'])"
   ]
  },
  {
   "cell_type": "code",
   "execution_count": 57,
   "metadata": {},
   "outputs": [
    {
     "data": {
      "text/plain": [
       "Text(0.5, 1.0, 'Betweenness and In-Degree Centrality')"
      ]
     },
     "execution_count": 57,
     "metadata": {},
     "output_type": "execute_result"
    },
    {
     "data": {
      "image/png": "[encoded data removed]",
      "text/plain": [
       "<Figure size 432x288 with 1 Axes>"
      ]
     },
     "metadata": {
      "needs_background": "light"
     },
     "output_type": "display_data"
    }
   ],
   "source": [
    "sns.regplot(x=data['inner_betweeness'], y=data['inner_degree'])\n",
    "plt.title('Betweenness and In-Degree Centrality')"
   ]
  },
  {
   "cell_type": "code",
   "execution_count": 62,
   "metadata": {},
   "outputs": [
    {
     "name": "stdout",
     "output_type": "stream",
     "text": [
      "                            OLS Regression Results                            \n",
      "==============================================================================\n",
      "Dep. Variable:           inner_degree   R-squared:                       0.478\n",
      "Model:                            OLS   Adj. R-squared:                  0.458\n",
      "Method:                 Least Squares   F-statistic:                     23.70\n",
      "Date:                Sat, 06 Jun 2020   Prob (F-statistic):           6.25e-46\n",
      "Time:                        15:55:33   Log-Likelihood:                 313.30\n",
      "No. Observations:                 404   AIC:                            -594.6\n",
      "Df Residuals:                     388   BIC:                            -530.6\n",
      "Df Model:                          15                                         \n",
      "Covariance Type:            nonrobust                                         \n",
      "======================================================================================\n",
      "                         coef    std err          t      P>|t|      [0.025      0.975]\n",
      "--------------------------------------------------------------------------------------\n",
      "const                  0.1610      0.129      1.251      0.212      -0.092       0.414\n",
      "num_followers       4.761e-07   1.43e-07      3.335      0.001    1.95e-07    7.57e-07\n",
      "num_following      -2.741e-06   9.07e-07     -3.021      0.003   -4.53e-06   -9.57e-07\n",
      "gov_followers         -0.0021      0.001     -1.535      0.126      -0.005       0.001\n",
      "congress_followers     0.0091      0.002      5.190      0.000       0.006       0.013\n",
      "news_followers         0.0018      0.001      1.201      0.231      -0.001       0.005\n",
      "gov_following          0.0015      0.001      2.818      0.005       0.000       0.003\n",
      "congress_following    -0.0002      0.000     -0.516      0.606      -0.001       0.001\n",
      "news_following         0.0003      0.000      0.909      0.364      -0.000       0.001\n",
      "position               0.0458      0.005      9.396      0.000       0.036       0.055\n",
      "num_citation       -1.839e-06   1.27e-06     -1.453      0.147   -4.33e-06    6.49e-07\n",
      "freq_original          0.0033      0.003      0.972      0.332      -0.003       0.010\n",
      "freq_total             0.0005      0.002      0.263      0.792      -0.003       0.005\n",
      "is_neg                 1.5738      4.344      0.362      0.717      -6.967      10.115\n",
      "is_neu                -0.1745      0.137     -1.276      0.203      -0.443       0.094\n",
      "is_pos                 0.1637      0.586      0.280      0.780      -0.988       1.315\n",
      "==============================================================================\n",
      "Omnibus:                       88.129   Durbin-Watson:                   1.554\n",
      "Prob(Omnibus):                  0.000   Jarque-Bera (JB):              221.702\n",
      "Skew:                           1.066   Prob(JB):                     7.21e-49\n",
      "Kurtosis:                       5.937   Cond. No.                     4.90e+07\n",
      "==============================================================================\n",
      "\n",
      "Warnings:\n",
      "[1] Standard Errors assume that the covariance matrix of the errors is correctly specified.\n",
      "[2] The condition number is large, 4.9e+07. This might indicate that there are\n",
      "strong multicollinearity or other numerical problems.\n"
     ]
    }
   ],
   "source": [
    "lst = ['name_x', 'twitter', 'institution', \n",
    "       'inner_degree', 'inner_betweeness']\n",
    "X = data.drop(lst, axis=1)\n",
    "y = data['inner_degree']\n",
    "#y = data['position']\n",
    "model = sm.OLS(y, sm.add_constant(X)).fit()\n",
    "print(model.summary())"
   ]
  },
  {
   "cell_type": "code",
   "execution_count": 70,
   "metadata": {},
   "outputs": [
    {
     "name": "stdout",
     "output_type": "stream",
     "text": [
      "                            OLS Regression Results                            \n",
      "==============================================================================\n",
      "Dep. Variable:           inner_degree   R-squared:                       0.516\n",
      "Model:                            OLS   Adj. R-squared:                  0.405\n",
      "Method:                 Least Squares   F-statistic:                     4.640\n",
      "Date:                Sat, 06 Jun 2020   Prob (F-statistic):           1.20e-05\n",
      "Time:                        20:48:06   Log-Likelihood:                 54.390\n",
      "No. Observations:                  76   AIC:                            -78.78\n",
      "Df Residuals:                      61   BIC:                            -43.82\n",
      "Df Model:                          14                                         \n",
      "Covariance Type:            nonrobust                                         \n",
      "======================================================================================\n",
      "                         coef    std err          t      P>|t|      [0.025      0.975]\n",
      "--------------------------------------------------------------------------------------\n",
      "const                  1.1000      0.506      2.174      0.034       0.088       2.112\n",
      "num_followers       8.558e-07   3.07e-07      2.785      0.007    2.41e-07    1.47e-06\n",
      "num_following       2.282e-05   2.75e-05      0.830      0.410   -3.21e-05    7.78e-05\n",
      "gov_followers          0.0119      0.007      1.640      0.106      -0.003       0.026\n",
      "congress_followers     0.0032      0.005      0.629      0.532      -0.007       0.013\n",
      "news_followers        -0.0040      0.003     -1.140      0.259      -0.011       0.003\n",
      "gov_following          0.0009      0.002      0.446      0.657      -0.003       0.005\n",
      "congress_following     0.0010      0.002      0.421      0.675      -0.004       0.006\n",
      "news_following        -0.0022      0.001     -1.580      0.119      -0.005       0.001\n",
      "position               0.0464      0.016      2.916      0.005       0.015       0.078\n",
      "num_citation         -1.5e-13   2.27e-13     -0.661      0.511   -6.04e-13    3.04e-13\n",
      "freq_original       -8.39e-06      0.008     -0.001      0.999      -0.017       0.017\n",
      "freq_total             0.0057      0.006      0.936      0.353      -0.006       0.018\n",
      "is_neg                 9.7022     14.820      0.655      0.515     -19.932      39.336\n",
      "is_neu                -1.1102      0.533     -2.082      0.042      -2.177      -0.044\n",
      "is_pos                -0.4247      1.090     -0.390      0.698      -2.605       1.756\n",
      "==============================================================================\n",
      "Omnibus:                       12.524   Durbin-Watson:                   1.693\n",
      "Prob(Omnibus):                  0.002   Jarque-Bera (JB):               13.561\n",
      "Skew:                           0.857   Prob(JB):                      0.00114\n",
      "Kurtosis:                       4.160   Cond. No.                     4.50e+22\n",
      "==============================================================================\n",
      "\n",
      "Warnings:\n",
      "[1] Standard Errors assume that the covariance matrix of the errors is correctly specified.\n",
      "[2] The smallest eigenvalue is 1.97e-34. This might indicate that there are\n",
      "strong multicollinearity problems or that the design matrix is singular.\n"
     ]
    }
   ],
   "source": [
    "tar = data[data['institution']=='aei']\n",
    "X = tar.drop(lst, axis=1)\n",
    "y = tar['inner_degree']\n",
    "#inner_betweeness\n",
    "model = sm.OLS(y, sm.add_constant(X)).fit()\n",
    "print(model.summary())"
   ]
  },
  {
   "cell_type": "code",
   "execution_count": null,
   "metadata": {},
   "outputs": [],
   "source": []
  }
 ],
 "metadata": {
  "kernelspec": {
   "display_name": "Python 3",
   "language": "python",
   "name": "python3"
  },
  "language_info": {
   "codemirror_mode": {
    "name": "ipython",
    "version": 3
   },
   "file_extension": ".py",
   "mimetype": "text/x-python",
   "name": "python",
   "nbconvert_exporter": "python",
   "pygments_lexer": "ipython3",
   "version": "3.7.0"
  }
 },
 "nbformat": 4,
 "nbformat_minor": 4
}
