{
 "cells": [
  {
   "cell_type": "code",
   "execution_count": 7,
   "metadata": {},
   "outputs": [],
   "source": [
    "import json, nltk, boto3, time\n",
    "from nltk.sentiment.vader import SentimentIntensityAnalyzer\n",
    "import pandas as pd\n",
    "from nltk import word_tokenize\n",
    "tokenizer = nltk.RegexpTokenizer(r\"\\w+\")"
   ]
  },
  {
   "cell_type": "markdown",
   "metadata": {},
   "source": [
    "## SentimentIntensityAnalyzer & MultiProcessing"
   ]
  },
  {
   "cell_type": "code",
   "execution_count": 8,
   "metadata": {},
   "outputs": [],
   "source": [
    "## load data\n",
    "data = json.load(open('expert_tweets_2.json'))\n",
    "name, text, original, time = [], [], [], []\n",
    "for key in data:\n",
    "    for pair in data[key]:\n",
    "        if len(pair[0].split(' '))< 5: continue\n",
    "        name.append(key)\n",
    "        text.append(pair[0])\n",
    "        original.append('[Original]' in pair[0])\n",
    "        time.append(pair[1])\n",
    "        \n",
    "data_df = pd.DataFrame({'name': name, 'text':text,\n",
    "                        'is_original': original, 'time': time})\n",
    "data_df['text'] = data_df['text'].apply(lambda x: x[x.index(']')+1:])\n",
    "#data_df.to_csv('expert_tweets.csv', index=False)"
   ]
  },
  {
   "cell_type": "code",
   "execution_count": 10,
   "metadata": {},
   "outputs": [
    {
     "name": "stdout",
     "output_type": "stream",
     "text": [
      "268658 50.22187280654907\n"
     ]
    }
   ],
   "source": [
    "from multiprocessing import Pool\n",
    "import time\n",
    "sid = SentimentIntensityAnalyzer()\n",
    "texts = list(data_df['text'])\n",
    "all_results = []\n",
    "with Pool(2) as p:\n",
    "    t0 = time.time()\n",
    "    result = p.map(sid.polarity_scores, texts)\n",
    "    print(len(result), time.time()-t0)"
   ]
  },
  {
   "cell_type": "code",
   "execution_count": 19,
   "metadata": {},
   "outputs": [],
   "source": [
    "data_df['neg'] = [i['neg'] for i in result]\n",
    "data_df['neu'] = [i['neu'] for i in result]\n",
    "data_df['pos'] = [i['pos'] for i in result]\n",
    "data_df['compound'] = [i['compound'] for i in result]"
   ]
  },
  {
   "cell_type": "code",
   "execution_count": 51,
   "metadata": {},
   "outputs": [],
   "source": [
    "data_df.to_csv('expert_tweets.csv', index=False)"
   ]
  },
  {
   "cell_type": "markdown",
   "metadata": {},
   "source": [
    "## Brief Analysis"
   ]
  },
  {
   "cell_type": "code",
   "execution_count": 116,
   "metadata": {},
   "outputs": [
    {
     "data": {
      "text/html": [
       "<div>\n",
       "<style scoped>\n",
       "    .dataframe tbody tr th:only-of-type {\n",
       "        vertical-align: middle;\n",
       "    }\n",
       "\n",
       "    .dataframe tbody tr th {\n",
       "        vertical-align: top;\n",
       "    }\n",
       "\n",
       "    .dataframe thead th {\n",
       "        text-align: right;\n",
       "    }\n",
       "</style>\n",
       "<table border=\"1\" class=\"dataframe\">\n",
       "  <thead>\n",
       "    <tr style=\"text-align: right;\">\n",
       "      <th></th>\n",
       "      <th>name</th>\n",
       "      <th>text</th>\n",
       "      <th>is_original</th>\n",
       "      <th>time</th>\n",
       "      <th>neg</th>\n",
       "      <th>neu</th>\n",
       "      <th>pos</th>\n",
       "      <th>compound</th>\n",
       "    </tr>\n",
       "  </thead>\n",
       "  <tbody>\n",
       "    <tr>\n",
       "      <th>0</th>\n",
       "      <td>BrettDSchaefer</td>\n",
       "      <td>Member States of the @ITU should remind Zhao t...</td>\n",
       "      <td>False</td>\n",
       "      <td>May 11</td>\n",
       "      <td>0.000</td>\n",
       "      <td>1.000</td>\n",
       "      <td>0.000</td>\n",
       "      <td>0.0000</td>\n",
       "    </tr>\n",
       "    <tr>\n",
       "      <th>1</th>\n",
       "      <td>BrettDSchaefer</td>\n",
       "      <td>Economic freedom and the empowerment of women ...</td>\n",
       "      <td>False</td>\n",
       "      <td>Feb 26</td>\n",
       "      <td>0.000</td>\n",
       "      <td>0.744</td>\n",
       "      <td>0.256</td>\n",
       "      <td>0.9136</td>\n",
       "    </tr>\n",
       "    <tr>\n",
       "      <th>2</th>\n",
       "      <td>BrettDSchaefer</td>\n",
       "      <td>Next week, the World Intellectual Property Org...</td>\n",
       "      <td>True</td>\n",
       "      <td>Feb 24</td>\n",
       "      <td>0.115</td>\n",
       "      <td>0.688</td>\n",
       "      <td>0.197</td>\n",
       "      <td>0.6486</td>\n",
       "    </tr>\n",
       "    <tr>\n",
       "      <th>3</th>\n",
       "      <td>BrettDSchaefer</td>\n",
       "      <td>The @UN hit a new low today publishing its Ant...</td>\n",
       "      <td>False</td>\n",
       "      <td>Feb 12</td>\n",
       "      <td>0.115</td>\n",
       "      <td>0.717</td>\n",
       "      <td>0.167</td>\n",
       "      <td>0.5267</td>\n",
       "    </tr>\n",
       "    <tr>\n",
       "      <th>4</th>\n",
       "      <td>BrettDSchaefer</td>\n",
       "      <td>The short-term memory on this is puzzling. Chi...</td>\n",
       "      <td>True</td>\n",
       "      <td>Jan 22</td>\n",
       "      <td>0.000</td>\n",
       "      <td>0.848</td>\n",
       "      <td>0.152</td>\n",
       "      <td>0.7003</td>\n",
       "    </tr>\n",
       "  </tbody>\n",
       "</table>\n",
       "</div>"
      ],
      "text/plain": [
       "             name                                               text  \\\n",
       "0  BrettDSchaefer  Member States of the @ITU should remind Zhao t...   \n",
       "1  BrettDSchaefer  Economic freedom and the empowerment of women ...   \n",
       "2  BrettDSchaefer  Next week, the World Intellectual Property Org...   \n",
       "3  BrettDSchaefer  The @UN hit a new low today publishing its Ant...   \n",
       "4  BrettDSchaefer  The short-term memory on this is puzzling. Chi...   \n",
       "\n",
       "  is_original    time    neg    neu    pos  compound  \n",
       "0       False  May 11  0.000  1.000  0.000    0.0000  \n",
       "1       False  Feb 26  0.000  0.744  0.256    0.9136  \n",
       "2        True  Feb 24  0.115  0.688  0.197    0.6486  \n",
       "3       False  Feb 12  0.115  0.717  0.167    0.5267  \n",
       "4        True  Jan 22  0.000  0.848  0.152    0.7003  "
      ]
     },
     "execution_count": 116,
     "metadata": {},
     "output_type": "execute_result"
    }
   ],
   "source": [
    "data_df = pd.read_csv('expert_tweets.csv')\n",
    "data_df.head()"
   ]
  },
  {
   "cell_type": "code",
   "execution_count": 160,
   "metadata": {},
   "outputs": [
    {
     "data": {
      "text/plain": [
       "{'neg': 0.167, 'neu': 0.833, 'pos': 0.0, 'compound': -0.34}"
      ]
     },
     "execution_count": 160,
     "metadata": {},
     "output_type": "execute_result"
    }
   ],
   "source": [
    "sent = 'They’d rather arrest hundreds of American citizens then 3 of their own. Very telling'\n",
    "sid.polarity_scores(sent)"
   ]
  },
  {
   "cell_type": "code",
   "execution_count": 102,
   "metadata": {},
   "outputs": [],
   "source": [
    "from datetime import datetime\n",
    "import numpy as np"
   ]
  },
  {
   "cell_type": "code",
   "execution_count": 103,
   "metadata": {},
   "outputs": [],
   "source": [
    "def change_time(x):\n",
    "    if isinstance(x, float): return np.NAN\n",
    "    if len(x.split(' '))==2: return 2020\n",
    "    elif len(x.split(' ')) == 1: return 2020\n",
    "    return int('20'+x.split(' ')[-1])\n",
    "data_df['time'] = data_df['time'].apply(change_time)"
   ]
  },
  {
   "cell_type": "code",
   "execution_count": 109,
   "metadata": {},
   "outputs": [
    {
     "data": {
      "text/plain": [
       "<matplotlib.axes._subplots.AxesSubplot at 0x12e4bde10>"
      ]
     },
     "execution_count": 109,
     "metadata": {},
     "output_type": "execute_result"
    },
    {
     "data": {
      "image/png": "[encoded data removed]",
      "text/plain": [
       "<Figure size 432x288 with 1 Axes>"
      ]
     },
     "metadata": {
      "needs_background": "light"
     },
     "output_type": "display_data"
    }
   ],
   "source": [
    "import seaborn as sns\n",
    "m = data_df.groupby('time').mean()\n",
    "m.plot()"
   ]
  },
  {
   "cell_type": "code",
   "execution_count": 21,
   "metadata": {},
   "outputs": [
    {
     "data": {
      "text/html": [
       "<div>\n",
       "<style scoped>\n",
       "    .dataframe tbody tr th:only-of-type {\n",
       "        vertical-align: middle;\n",
       "    }\n",
       "\n",
       "    .dataframe tbody tr th {\n",
       "        vertical-align: top;\n",
       "    }\n",
       "\n",
       "    .dataframe thead th {\n",
       "        text-align: right;\n",
       "    }\n",
       "</style>\n",
       "<table border=\"1\" class=\"dataframe\">\n",
       "  <thead>\n",
       "    <tr style=\"text-align: right;\">\n",
       "      <th></th>\n",
       "      <th>neg</th>\n",
       "      <th>neu</th>\n",
       "      <th>pos</th>\n",
       "      <th>compound</th>\n",
       "    </tr>\n",
       "    <tr>\n",
       "      <th>is_original</th>\n",
       "      <th></th>\n",
       "      <th></th>\n",
       "      <th></th>\n",
       "      <th></th>\n",
       "    </tr>\n",
       "  </thead>\n",
       "  <tbody>\n",
       "    <tr>\n",
       "      <th>False</th>\n",
       "      <td>0.063533</td>\n",
       "      <td>0.83203</td>\n",
       "      <td>0.104436</td>\n",
       "      <td>0.122336</td>\n",
       "    </tr>\n",
       "    <tr>\n",
       "      <th>True</th>\n",
       "      <td>0.062975</td>\n",
       "      <td>0.81240</td>\n",
       "      <td>0.124606</td>\n",
       "      <td>0.153990</td>\n",
       "    </tr>\n",
       "  </tbody>\n",
       "</table>\n",
       "</div>"
      ],
      "text/plain": [
       "                  neg      neu       pos  compound\n",
       "is_original                                       \n",
       "False        0.063533  0.83203  0.104436  0.122336\n",
       "True         0.062975  0.81240  0.124606  0.153990"
      ]
     },
     "execution_count": 21,
     "metadata": {},
     "output_type": "execute_result"
    }
   ],
   "source": [
    "data_df.groupby('is_original').mean()"
   ]
  },
  {
   "cell_type": "markdown",
   "metadata": {},
   "source": [
    "## Save Data\n",
    "Because of the discussion that the values of negative/ positive/ neutral scores are relatively hard to compare, I took the binary value with 0.6 threshold instead, and take the average for each expert."
   ]
  },
  {
   "cell_type": "code",
   "execution_count": 167,
   "metadata": {},
   "outputs": [],
   "source": [
    "data_df['is_neg'] = data_df['neg'].apply(lambda x: 1 if x>0.6 else 0)\n",
    "data_df['is_pos'] = data_df['pos'].apply(lambda x: 1 if x>0.6 else 0)\n",
    "data_df['is_neu'] = data_df['neu'].apply(lambda x: 1 if x>0.6 else 0)"
   ]
  },
  {
   "cell_type": "code",
   "execution_count": 168,
   "metadata": {},
   "outputs": [],
   "source": [
    "data_df = data_df.groupby('name').mean()\n",
    "data_df = data_df.reset_index()\n",
    "data_df.to_csv('avg_sentiment.csv', index=False)"
   ]
  },
  {
   "cell_type": "code",
   "execution_count": null,
   "metadata": {},
   "outputs": [],
   "source": []
  }
 ],
 "metadata": {
  "kernelspec": {
   "display_name": "Python 3",
   "language": "python",
   "name": "python3"
  },
  "language_info": {
   "codemirror_mode": {
    "name": "ipython",
    "version": 3
   },
   "file_extension": ".py",
   "mimetype": "text/x-python",
   "name": "python",
   "nbconvert_exporter": "python",
   "pygments_lexer": "ipython3",
   "version": "3.7.0"
  }
 },
 "nbformat": 4,
 "nbformat_minor": 4
}
